{
  "nbformat": 4,
  "nbformat_minor": 5,
  "metadata": {
    "kernelspec": {
      "display_name": "Python 3",
      "language": "python",
      "name": "python3"
    },
    "language_info": {
      "codemirror_mode": {
        "name": "ipython",
        "version": 3
      },
      "file_extension": ".py",
      "mimetype": "text/x-python",
      "name": "python",
      "nbconvert_exporter": "python",
      "pygments_lexer": "ipython3",
      "version": "3.8.8"
    },
    "colab": {
      "provenance": [],
      "collapsed_sections": [
        "3f58c9a7",
        "5fed2eac",
        "f5c5258d",
        "359b12f8",
        "d9affc84",
        "3acbc947"
      ]
    }
  },
  "cells": [
    {
      "cell_type": "markdown",
      "metadata": {
        "id": "6yDxo9u0d9Na"
      },
      "source": [
        "# Project Business Statistics: E-news Express\n",
        "\n",
        "**Marks: 60**"
      ],
      "id": "6yDxo9u0d9Na"
    },
    {
      "cell_type": "markdown",
      "metadata": {
        "id": "SrLd-ICEmPSD"
      },
      "source": [
        "## Define Problem Statement and Objectives"
      ],
      "id": "SrLd-ICEmPSD"
    },
    {
      "cell_type": "markdown",
      "metadata": {
        "id": "9Vt1PLLqmXNn"
      },
      "source": [
        "## Business Context\n",
        "\n",
        "The advent of e-news, or electronic news, portals has offered us a great opportunity to quickly get updates on the day-to-day events occurring globally. The information on these portals is retrieved electronically from online databases, processed using a variety of software, and then transmitted to the users. There are multiple advantages of transmitting news electronically, like faster access to the content and the ability to utilize different technologies such as audio, graphics, video, and other interactive elements that are either not being used or aren’t common yet in traditional newspapers.\n",
        "\n",
        "E-news Express, an online news portal, aims to expand its business by acquiring new subscribers. With every visitor to the website taking certain actions based on their interest, the company plans to analyze these actions to understand user interests and determine how to drive better engagement.  The executives at E-news Express are of the opinion that there has been a decline in new monthly subscribers compared to the past year because the current webpage is not designed well enough in terms of the outline & recommended content to keep customers engaged long enough to make a decision to subscribe.\n",
        "\n",
        "[Companies often analyze user responses to two variants of a product to decide which of the two variants is more effective. This experimental technique, known as A/B testing, is used to determine whether a new feature attracts users based on a chosen metric.]\n",
        "\n",
        "\n",
        "## Objective\n",
        "\n",
        "The design team of the company has researched and created a new landing page that has a new outline & more relevant content shown compared to the old page. In order to test the effectiveness of the new landing page in gathering new subscribers, the Data Science team conducted an experiment by randomly selecting 100 users and dividing them equally into two groups. The existing landing page was served to the first group (control group) and the new landing page to the second group (treatment group). Data regarding the interaction of users in both groups with the two versions of the landing page was collected. Being a data scientist in E-news Express, you have been asked to explore the data and perform a statistical analysis (at a significance level of 5%) to determine the effectiveness of the new landing page in gathering new subscribers for the news portal by answering the following questions:\n",
        "\n",
        "1. Do the users spend more time on the new landing page than on the existing landing page?\n",
        "\n",
        "2. Is the conversion rate (the proportion of users who visit the landing page and get converted) for the new page greater than the conversion rate for the old page?\n",
        "\n",
        "3. Does the converted status depend on the preferred language? [Hint: Create a contingency table using the pandas.crosstab() function]\n",
        "\n",
        "4. Is the time spent on the new page the same for the different language users?\n",
        "\n",
        "\n",
        "## Data Dictionary\n",
        "\n",
        "The data contains information regarding the interaction of users in both groups with the two versions of the landing page.\n",
        "\n",
        "1. user_id - Unique user ID of the person visiting the website\n",
        "\n",
        "2. group - Whether the user belongs to the first group (control) or the second group (treatment)\n",
        "\n",
        "3. landing_page - Whether the landing page is new or old\n",
        "\n",
        "4. time_spent_on_the_page - Time (in minutes) spent by the user on the landing page\n",
        "\n",
        "5. converted - Whether the user gets converted to a subscriber of the news portal or not\n",
        "\n",
        "6. language_preferred - Language chosen by the user to view the landing page"
      ],
      "id": "9Vt1PLLqmXNn"
    },
    {
      "cell_type": "markdown",
      "metadata": {
        "id": "a6a3d218"
      },
      "source": [
        "## Import all the necessary libraries"
      ],
      "id": "a6a3d218"
    },
    {
      "cell_type": "code",
      "execution_count": null,
      "metadata": {
        "id": "BdAWOL87SwRJ",
        "outputId": "018e30b2-d9a2-419f-8333-35fb0d3c1911",
        "colab": {
          "base_uri": "https://localhost:8080/",
          "height": 35
        }
      },
      "outputs": [
        {
          "output_type": "execute_result",
          "data": {
            "text/plain": [
              "'1.7.3'"
            ],
            "application/vnd.google.colaboratory.intrinsic+json": {
              "type": "string"
            }
          },
          "metadata": {},
          "execution_count": 66
        }
      ],
      "source": [
        "\n",
        "import scipy\n",
        "scipy.__version__"
      ],
      "id": "BdAWOL87SwRJ"
    },
    {
      "cell_type": "code",
      "metadata": {
        "id": "658c5dec"
      },
      "source": [
        "import numpy as np\n",
        "import pandas as pd\n",
        "from matplotlib import pyplot as plt\n",
        "import seaborn as sns\n",
        "%matplotlib inline\n",
        "\n",
        "import scipy.stats as stats"
      ],
      "id": "658c5dec",
      "execution_count": null,
      "outputs": []
    },
    {
      "cell_type": "markdown",
      "metadata": {
        "id": "6970dd99"
      },
      "source": [
        "## Reading the Data into a DataFrame"
      ],
      "id": "6970dd99"
    },
    {
      "cell_type": "code",
      "metadata": {
        "id": "d3b95640",
        "colab": {
          "base_uri": "https://localhost:8080/"
        },
        "outputId": "ca38a845-a311-4d9f-ef5f-0f7e85907373"
      },
      "source": [
        "from google.colab import drive\n",
        "drive.mount('/content/drive',force_remount =True)"
      ],
      "id": "d3b95640",
      "execution_count": null,
      "outputs": [
        {
          "output_type": "stream",
          "name": "stdout",
          "text": [
            "Mounted at /content/drive\n"
          ]
        }
      ]
    },
    {
      "cell_type": "code",
      "source": [
        "path=('/content/drive/MyDrive/Pandas1/Project2/abtest.csv')\n",
        "\n",
        "enews=pd.read_csv(path)"
      ],
      "metadata": {
        "id": "6djqVW52SJmI"
      },
      "id": "6djqVW52SJmI",
      "execution_count": null,
      "outputs": []
    },
    {
      "cell_type": "markdown",
      "metadata": {
        "id": "9d75cfa2"
      },
      "source": [
        "## Explore the dataset and extract insights using Exploratory Data Analysis"
      ],
      "id": "9d75cfa2"
    },
    {
      "cell_type": "markdown",
      "metadata": {
        "id": "27201534"
      },
      "source": [
        "- Data Overview\n",
        "  - Viewing the first and last few rows of the dataset\n",
        "  - Checking the shape of the dataset\n",
        "  - Getting the statistical summary for the variables\n",
        "- Check for missing values\n",
        "- Check for duplicates"
      ],
      "id": "27201534"
    },
    {
      "cell_type": "code",
      "metadata": {
        "id": "e1ad11d4",
        "colab": {
          "base_uri": "https://localhost:8080/",
          "height": 206
        },
        "outputId": "b456ca60-de7b-4bd2-b641-87a63611a8b2"
      },
      "source": [
        "enews.head()"
      ],
      "id": "e1ad11d4",
      "execution_count": null,
      "outputs": [
        {
          "output_type": "execute_result",
          "data": {
            "text/plain": [
              "   user_id      group landing_page  time_spent_on_the_page converted  \\\n",
              "0   546592    control          old                    3.48        no   \n",
              "1   546468  treatment          new                    7.13       yes   \n",
              "2   546462  treatment          new                    4.40        no   \n",
              "3   546567    control          old                    3.02        no   \n",
              "4   546459  treatment          new                    4.75       yes   \n",
              "\n",
              "  language_preferred  \n",
              "0            Spanish  \n",
              "1            English  \n",
              "2            Spanish  \n",
              "3             French  \n",
              "4            Spanish  "
            ],
            "text/html": [
              "\n",
              "  <div id=\"df-1bba0367-c411-4078-8dab-8ffe29019320\">\n",
              "    <div class=\"colab-df-container\">\n",
              "      <div>\n",
              "<style scoped>\n",
              "    .dataframe tbody tr th:only-of-type {\n",
              "        vertical-align: middle;\n",
              "    }\n",
              "\n",
              "    .dataframe tbody tr th {\n",
              "        vertical-align: top;\n",
              "    }\n",
              "\n",
              "    .dataframe thead th {\n",
              "        text-align: right;\n",
              "    }\n",
              "</style>\n",
              "<table border=\"1\" class=\"dataframe\">\n",
              "  <thead>\n",
              "    <tr style=\"text-align: right;\">\n",
              "      <th></th>\n",
              "      <th>user_id</th>\n",
              "      <th>group</th>\n",
              "      <th>landing_page</th>\n",
              "      <th>time_spent_on_the_page</th>\n",
              "      <th>converted</th>\n",
              "      <th>language_preferred</th>\n",
              "    </tr>\n",
              "  </thead>\n",
              "  <tbody>\n",
              "    <tr>\n",
              "      <th>0</th>\n",
              "      <td>546592</td>\n",
              "      <td>control</td>\n",
              "      <td>old</td>\n",
              "      <td>3.48</td>\n",
              "      <td>no</td>\n",
              "      <td>Spanish</td>\n",
              "    </tr>\n",
              "    <tr>\n",
              "      <th>1</th>\n",
              "      <td>546468</td>\n",
              "      <td>treatment</td>\n",
              "      <td>new</td>\n",
              "      <td>7.13</td>\n",
              "      <td>yes</td>\n",
              "      <td>English</td>\n",
              "    </tr>\n",
              "    <tr>\n",
              "      <th>2</th>\n",
              "      <td>546462</td>\n",
              "      <td>treatment</td>\n",
              "      <td>new</td>\n",
              "      <td>4.40</td>\n",
              "      <td>no</td>\n",
              "      <td>Spanish</td>\n",
              "    </tr>\n",
              "    <tr>\n",
              "      <th>3</th>\n",
              "      <td>546567</td>\n",
              "      <td>control</td>\n",
              "      <td>old</td>\n",
              "      <td>3.02</td>\n",
              "      <td>no</td>\n",
              "      <td>French</td>\n",
              "    </tr>\n",
              "    <tr>\n",
              "      <th>4</th>\n",
              "      <td>546459</td>\n",
              "      <td>treatment</td>\n",
              "      <td>new</td>\n",
              "      <td>4.75</td>\n",
              "      <td>yes</td>\n",
              "      <td>Spanish</td>\n",
              "    </tr>\n",
              "  </tbody>\n",
              "</table>\n",
              "</div>\n",
              "      <button class=\"colab-df-convert\" onclick=\"convertToInteractive('df-1bba0367-c411-4078-8dab-8ffe29019320')\"\n",
              "              title=\"Convert this dataframe to an interactive table.\"\n",
              "              style=\"display:none;\">\n",
              "        \n",
              "  <svg xmlns=\"http://www.w3.org/2000/svg\" height=\"24px\"viewBox=\"0 0 24 24\"\n",
              "       width=\"24px\">\n",
              "    <path d=\"M0 0h24v24H0V0z\" fill=\"none\"/>\n",
              "    <path d=\"M18.56 5.44l.94 2.06.94-2.06 2.06-.94-2.06-.94-.94-2.06-.94 2.06-2.06.94zm-11 1L8.5 8.5l.94-2.06 2.06-.94-2.06-.94L8.5 2.5l-.94 2.06-2.06.94zm10 10l.94 2.06.94-2.06 2.06-.94-2.06-.94-.94-2.06-.94 2.06-2.06.94z\"/><path d=\"M17.41 7.96l-1.37-1.37c-.4-.4-.92-.59-1.43-.59-.52 0-1.04.2-1.43.59L10.3 9.45l-7.72 7.72c-.78.78-.78 2.05 0 2.83L4 21.41c.39.39.9.59 1.41.59.51 0 1.02-.2 1.41-.59l7.78-7.78 2.81-2.81c.8-.78.8-2.07 0-2.86zM5.41 20L4 18.59l7.72-7.72 1.47 1.35L5.41 20z\"/>\n",
              "  </svg>\n",
              "      </button>\n",
              "      \n",
              "  <style>\n",
              "    .colab-df-container {\n",
              "      display:flex;\n",
              "      flex-wrap:wrap;\n",
              "      gap: 12px;\n",
              "    }\n",
              "\n",
              "    .colab-df-convert {\n",
              "      background-color: #E8F0FE;\n",
              "      border: none;\n",
              "      border-radius: 50%;\n",
              "      cursor: pointer;\n",
              "      display: none;\n",
              "      fill: #1967D2;\n",
              "      height: 32px;\n",
              "      padding: 0 0 0 0;\n",
              "      width: 32px;\n",
              "    }\n",
              "\n",
              "    .colab-df-convert:hover {\n",
              "      background-color: #E2EBFA;\n",
              "      box-shadow: 0px 1px 2px rgba(60, 64, 67, 0.3), 0px 1px 3px 1px rgba(60, 64, 67, 0.15);\n",
              "      fill: #174EA6;\n",
              "    }\n",
              "\n",
              "    [theme=dark] .colab-df-convert {\n",
              "      background-color: #3B4455;\n",
              "      fill: #D2E3FC;\n",
              "    }\n",
              "\n",
              "    [theme=dark] .colab-df-convert:hover {\n",
              "      background-color: #434B5C;\n",
              "      box-shadow: 0px 1px 3px 1px rgba(0, 0, 0, 0.15);\n",
              "      filter: drop-shadow(0px 1px 2px rgba(0, 0, 0, 0.3));\n",
              "      fill: #FFFFFF;\n",
              "    }\n",
              "  </style>\n",
              "\n",
              "      <script>\n",
              "        const buttonEl =\n",
              "          document.querySelector('#df-1bba0367-c411-4078-8dab-8ffe29019320 button.colab-df-convert');\n",
              "        buttonEl.style.display =\n",
              "          google.colab.kernel.accessAllowed ? 'block' : 'none';\n",
              "\n",
              "        async function convertToInteractive(key) {\n",
              "          const element = document.querySelector('#df-1bba0367-c411-4078-8dab-8ffe29019320');\n",
              "          const dataTable =\n",
              "            await google.colab.kernel.invokeFunction('convertToInteractive',\n",
              "                                                     [key], {});\n",
              "          if (!dataTable) return;\n",
              "\n",
              "          const docLinkHtml = 'Like what you see? Visit the ' +\n",
              "            '<a target=\"_blank\" href=https://colab.research.google.com/notebooks/data_table.ipynb>data table notebook</a>'\n",
              "            + ' to learn more about interactive tables.';\n",
              "          element.innerHTML = '';\n",
              "          dataTable['output_type'] = 'display_data';\n",
              "          await google.colab.output.renderOutput(dataTable, element);\n",
              "          const docLink = document.createElement('div');\n",
              "          docLink.innerHTML = docLinkHtml;\n",
              "          element.appendChild(docLink);\n",
              "        }\n",
              "      </script>\n",
              "    </div>\n",
              "  </div>\n",
              "  "
            ]
          },
          "metadata": {},
          "execution_count": 70
        }
      ]
    },
    {
      "cell_type": "code",
      "source": [
        "enews.tail()"
      ],
      "metadata": {
        "colab": {
          "base_uri": "https://localhost:8080/",
          "height": 206
        },
        "id": "tOrdU2xQThJ5",
        "outputId": "771e597e-d951-476a-e7cd-2051fe42c425"
      },
      "id": "tOrdU2xQThJ5",
      "execution_count": null,
      "outputs": [
        {
          "output_type": "execute_result",
          "data": {
            "text/plain": [
              "    user_id      group landing_page  time_spent_on_the_page converted  \\\n",
              "95   546446  treatment          new                    5.15        no   \n",
              "96   546544    control          old                    6.52       yes   \n",
              "97   546472  treatment          new                    7.07       yes   \n",
              "98   546481  treatment          new                    6.20       yes   \n",
              "99   546483  treatment          new                    5.86       yes   \n",
              "\n",
              "   language_preferred  \n",
              "95            Spanish  \n",
              "96            English  \n",
              "97            Spanish  \n",
              "98            Spanish  \n",
              "99            English  "
            ],
            "text/html": [
              "\n",
              "  <div id=\"df-0814c49d-bf94-4f7d-a10c-6dc312b7b492\">\n",
              "    <div class=\"colab-df-container\">\n",
              "      <div>\n",
              "<style scoped>\n",
              "    .dataframe tbody tr th:only-of-type {\n",
              "        vertical-align: middle;\n",
              "    }\n",
              "\n",
              "    .dataframe tbody tr th {\n",
              "        vertical-align: top;\n",
              "    }\n",
              "\n",
              "    .dataframe thead th {\n",
              "        text-align: right;\n",
              "    }\n",
              "</style>\n",
              "<table border=\"1\" class=\"dataframe\">\n",
              "  <thead>\n",
              "    <tr style=\"text-align: right;\">\n",
              "      <th></th>\n",
              "      <th>user_id</th>\n",
              "      <th>group</th>\n",
              "      <th>landing_page</th>\n",
              "      <th>time_spent_on_the_page</th>\n",
              "      <th>converted</th>\n",
              "      <th>language_preferred</th>\n",
              "    </tr>\n",
              "  </thead>\n",
              "  <tbody>\n",
              "    <tr>\n",
              "      <th>95</th>\n",
              "      <td>546446</td>\n",
              "      <td>treatment</td>\n",
              "      <td>new</td>\n",
              "      <td>5.15</td>\n",
              "      <td>no</td>\n",
              "      <td>Spanish</td>\n",
              "    </tr>\n",
              "    <tr>\n",
              "      <th>96</th>\n",
              "      <td>546544</td>\n",
              "      <td>control</td>\n",
              "      <td>old</td>\n",
              "      <td>6.52</td>\n",
              "      <td>yes</td>\n",
              "      <td>English</td>\n",
              "    </tr>\n",
              "    <tr>\n",
              "      <th>97</th>\n",
              "      <td>546472</td>\n",
              "      <td>treatment</td>\n",
              "      <td>new</td>\n",
              "      <td>7.07</td>\n",
              "      <td>yes</td>\n",
              "      <td>Spanish</td>\n",
              "    </tr>\n",
              "    <tr>\n",
              "      <th>98</th>\n",
              "      <td>546481</td>\n",
              "      <td>treatment</td>\n",
              "      <td>new</td>\n",
              "      <td>6.20</td>\n",
              "      <td>yes</td>\n",
              "      <td>Spanish</td>\n",
              "    </tr>\n",
              "    <tr>\n",
              "      <th>99</th>\n",
              "      <td>546483</td>\n",
              "      <td>treatment</td>\n",
              "      <td>new</td>\n",
              "      <td>5.86</td>\n",
              "      <td>yes</td>\n",
              "      <td>English</td>\n",
              "    </tr>\n",
              "  </tbody>\n",
              "</table>\n",
              "</div>\n",
              "      <button class=\"colab-df-convert\" onclick=\"convertToInteractive('df-0814c49d-bf94-4f7d-a10c-6dc312b7b492')\"\n",
              "              title=\"Convert this dataframe to an interactive table.\"\n",
              "              style=\"display:none;\">\n",
              "        \n",
              "  <svg xmlns=\"http://www.w3.org/2000/svg\" height=\"24px\"viewBox=\"0 0 24 24\"\n",
              "       width=\"24px\">\n",
              "    <path d=\"M0 0h24v24H0V0z\" fill=\"none\"/>\n",
              "    <path d=\"M18.56 5.44l.94 2.06.94-2.06 2.06-.94-2.06-.94-.94-2.06-.94 2.06-2.06.94zm-11 1L8.5 8.5l.94-2.06 2.06-.94-2.06-.94L8.5 2.5l-.94 2.06-2.06.94zm10 10l.94 2.06.94-2.06 2.06-.94-2.06-.94-.94-2.06-.94 2.06-2.06.94z\"/><path d=\"M17.41 7.96l-1.37-1.37c-.4-.4-.92-.59-1.43-.59-.52 0-1.04.2-1.43.59L10.3 9.45l-7.72 7.72c-.78.78-.78 2.05 0 2.83L4 21.41c.39.39.9.59 1.41.59.51 0 1.02-.2 1.41-.59l7.78-7.78 2.81-2.81c.8-.78.8-2.07 0-2.86zM5.41 20L4 18.59l7.72-7.72 1.47 1.35L5.41 20z\"/>\n",
              "  </svg>\n",
              "      </button>\n",
              "      \n",
              "  <style>\n",
              "    .colab-df-container {\n",
              "      display:flex;\n",
              "      flex-wrap:wrap;\n",
              "      gap: 12px;\n",
              "    }\n",
              "\n",
              "    .colab-df-convert {\n",
              "      background-color: #E8F0FE;\n",
              "      border: none;\n",
              "      border-radius: 50%;\n",
              "      cursor: pointer;\n",
              "      display: none;\n",
              "      fill: #1967D2;\n",
              "      height: 32px;\n",
              "      padding: 0 0 0 0;\n",
              "      width: 32px;\n",
              "    }\n",
              "\n",
              "    .colab-df-convert:hover {\n",
              "      background-color: #E2EBFA;\n",
              "      box-shadow: 0px 1px 2px rgba(60, 64, 67, 0.3), 0px 1px 3px 1px rgba(60, 64, 67, 0.15);\n",
              "      fill: #174EA6;\n",
              "    }\n",
              "\n",
              "    [theme=dark] .colab-df-convert {\n",
              "      background-color: #3B4455;\n",
              "      fill: #D2E3FC;\n",
              "    }\n",
              "\n",
              "    [theme=dark] .colab-df-convert:hover {\n",
              "      background-color: #434B5C;\n",
              "      box-shadow: 0px 1px 3px 1px rgba(0, 0, 0, 0.15);\n",
              "      filter: drop-shadow(0px 1px 2px rgba(0, 0, 0, 0.3));\n",
              "      fill: #FFFFFF;\n",
              "    }\n",
              "  </style>\n",
              "\n",
              "      <script>\n",
              "        const buttonEl =\n",
              "          document.querySelector('#df-0814c49d-bf94-4f7d-a10c-6dc312b7b492 button.colab-df-convert');\n",
              "        buttonEl.style.display =\n",
              "          google.colab.kernel.accessAllowed ? 'block' : 'none';\n",
              "\n",
              "        async function convertToInteractive(key) {\n",
              "          const element = document.querySelector('#df-0814c49d-bf94-4f7d-a10c-6dc312b7b492');\n",
              "          const dataTable =\n",
              "            await google.colab.kernel.invokeFunction('convertToInteractive',\n",
              "                                                     [key], {});\n",
              "          if (!dataTable) return;\n",
              "\n",
              "          const docLinkHtml = 'Like what you see? Visit the ' +\n",
              "            '<a target=\"_blank\" href=https://colab.research.google.com/notebooks/data_table.ipynb>data table notebook</a>'\n",
              "            + ' to learn more about interactive tables.';\n",
              "          element.innerHTML = '';\n",
              "          dataTable['output_type'] = 'display_data';\n",
              "          await google.colab.output.renderOutput(dataTable, element);\n",
              "          const docLink = document.createElement('div');\n",
              "          docLink.innerHTML = docLinkHtml;\n",
              "          element.appendChild(docLink);\n",
              "        }\n",
              "      </script>\n",
              "    </div>\n",
              "  </div>\n",
              "  "
            ]
          },
          "metadata": {},
          "execution_count": 71
        }
      ]
    },
    {
      "cell_type": "code",
      "source": [
        "enews.shape"
      ],
      "metadata": {
        "colab": {
          "base_uri": "https://localhost:8080/"
        },
        "id": "dKlPZqWcThNw",
        "outputId": "eb71d335-0559-437d-e83d-d86a013647f1"
      },
      "id": "dKlPZqWcThNw",
      "execution_count": null,
      "outputs": [
        {
          "output_type": "execute_result",
          "data": {
            "text/plain": [
              "(100, 6)"
            ]
          },
          "metadata": {},
          "execution_count": 72
        }
      ]
    },
    {
      "cell_type": "code",
      "source": [
        "\n",
        "enews.describe(include='all').T"
      ],
      "metadata": {
        "colab": {
          "base_uri": "https://localhost:8080/",
          "height": 237
        },
        "id": "qqtX2muxT81U",
        "outputId": "d3b0e548-1cb3-4ba6-d165-0ac39dd03912"
      },
      "id": "qqtX2muxT81U",
      "execution_count": null,
      "outputs": [
        {
          "output_type": "execute_result",
          "data": {
            "text/plain": [
              "                        count unique      top freq      mean        std  \\\n",
              "user_id                 100.0    NaN      NaN  NaN  546517.0  52.295779   \n",
              "group                     100      2  control   50       NaN        NaN   \n",
              "landing_page              100      2      old   50       NaN        NaN   \n",
              "time_spent_on_the_page  100.0    NaN      NaN  NaN    5.3778   2.378166   \n",
              "converted                 100      2      yes   54       NaN        NaN   \n",
              "language_preferred        100      3  Spanish   34       NaN        NaN   \n",
              "\n",
              "                             min        25%       50%        75%       max  \n",
              "user_id                 546443.0  546467.75  546492.5  546567.25  546592.0  \n",
              "group                        NaN        NaN       NaN        NaN       NaN  \n",
              "landing_page                 NaN        NaN       NaN        NaN       NaN  \n",
              "time_spent_on_the_page      0.19       3.88     5.415     7.0225     10.71  \n",
              "converted                    NaN        NaN       NaN        NaN       NaN  \n",
              "language_preferred           NaN        NaN       NaN        NaN       NaN  "
            ],
            "text/html": [
              "\n",
              "  <div id=\"df-a1f8978b-9e74-4563-9cf3-83e225663aac\">\n",
              "    <div class=\"colab-df-container\">\n",
              "      <div>\n",
              "<style scoped>\n",
              "    .dataframe tbody tr th:only-of-type {\n",
              "        vertical-align: middle;\n",
              "    }\n",
              "\n",
              "    .dataframe tbody tr th {\n",
              "        vertical-align: top;\n",
              "    }\n",
              "\n",
              "    .dataframe thead th {\n",
              "        text-align: right;\n",
              "    }\n",
              "</style>\n",
              "<table border=\"1\" class=\"dataframe\">\n",
              "  <thead>\n",
              "    <tr style=\"text-align: right;\">\n",
              "      <th></th>\n",
              "      <th>count</th>\n",
              "      <th>unique</th>\n",
              "      <th>top</th>\n",
              "      <th>freq</th>\n",
              "      <th>mean</th>\n",
              "      <th>std</th>\n",
              "      <th>min</th>\n",
              "      <th>25%</th>\n",
              "      <th>50%</th>\n",
              "      <th>75%</th>\n",
              "      <th>max</th>\n",
              "    </tr>\n",
              "  </thead>\n",
              "  <tbody>\n",
              "    <tr>\n",
              "      <th>user_id</th>\n",
              "      <td>100.0</td>\n",
              "      <td>NaN</td>\n",
              "      <td>NaN</td>\n",
              "      <td>NaN</td>\n",
              "      <td>546517.0</td>\n",
              "      <td>52.295779</td>\n",
              "      <td>546443.0</td>\n",
              "      <td>546467.75</td>\n",
              "      <td>546492.5</td>\n",
              "      <td>546567.25</td>\n",
              "      <td>546592.0</td>\n",
              "    </tr>\n",
              "    <tr>\n",
              "      <th>group</th>\n",
              "      <td>100</td>\n",
              "      <td>2</td>\n",
              "      <td>control</td>\n",
              "      <td>50</td>\n",
              "      <td>NaN</td>\n",
              "      <td>NaN</td>\n",
              "      <td>NaN</td>\n",
              "      <td>NaN</td>\n",
              "      <td>NaN</td>\n",
              "      <td>NaN</td>\n",
              "      <td>NaN</td>\n",
              "    </tr>\n",
              "    <tr>\n",
              "      <th>landing_page</th>\n",
              "      <td>100</td>\n",
              "      <td>2</td>\n",
              "      <td>old</td>\n",
              "      <td>50</td>\n",
              "      <td>NaN</td>\n",
              "      <td>NaN</td>\n",
              "      <td>NaN</td>\n",
              "      <td>NaN</td>\n",
              "      <td>NaN</td>\n",
              "      <td>NaN</td>\n",
              "      <td>NaN</td>\n",
              "    </tr>\n",
              "    <tr>\n",
              "      <th>time_spent_on_the_page</th>\n",
              "      <td>100.0</td>\n",
              "      <td>NaN</td>\n",
              "      <td>NaN</td>\n",
              "      <td>NaN</td>\n",
              "      <td>5.3778</td>\n",
              "      <td>2.378166</td>\n",
              "      <td>0.19</td>\n",
              "      <td>3.88</td>\n",
              "      <td>5.415</td>\n",
              "      <td>7.0225</td>\n",
              "      <td>10.71</td>\n",
              "    </tr>\n",
              "    <tr>\n",
              "      <th>converted</th>\n",
              "      <td>100</td>\n",
              "      <td>2</td>\n",
              "      <td>yes</td>\n",
              "      <td>54</td>\n",
              "      <td>NaN</td>\n",
              "      <td>NaN</td>\n",
              "      <td>NaN</td>\n",
              "      <td>NaN</td>\n",
              "      <td>NaN</td>\n",
              "      <td>NaN</td>\n",
              "      <td>NaN</td>\n",
              "    </tr>\n",
              "    <tr>\n",
              "      <th>language_preferred</th>\n",
              "      <td>100</td>\n",
              "      <td>3</td>\n",
              "      <td>Spanish</td>\n",
              "      <td>34</td>\n",
              "      <td>NaN</td>\n",
              "      <td>NaN</td>\n",
              "      <td>NaN</td>\n",
              "      <td>NaN</td>\n",
              "      <td>NaN</td>\n",
              "      <td>NaN</td>\n",
              "      <td>NaN</td>\n",
              "    </tr>\n",
              "  </tbody>\n",
              "</table>\n",
              "</div>\n",
              "      <button class=\"colab-df-convert\" onclick=\"convertToInteractive('df-a1f8978b-9e74-4563-9cf3-83e225663aac')\"\n",
              "              title=\"Convert this dataframe to an interactive table.\"\n",
              "              style=\"display:none;\">\n",
              "        \n",
              "  <svg xmlns=\"http://www.w3.org/2000/svg\" height=\"24px\"viewBox=\"0 0 24 24\"\n",
              "       width=\"24px\">\n",
              "    <path d=\"M0 0h24v24H0V0z\" fill=\"none\"/>\n",
              "    <path d=\"M18.56 5.44l.94 2.06.94-2.06 2.06-.94-2.06-.94-.94-2.06-.94 2.06-2.06.94zm-11 1L8.5 8.5l.94-2.06 2.06-.94-2.06-.94L8.5 2.5l-.94 2.06-2.06.94zm10 10l.94 2.06.94-2.06 2.06-.94-2.06-.94-.94-2.06-.94 2.06-2.06.94z\"/><path d=\"M17.41 7.96l-1.37-1.37c-.4-.4-.92-.59-1.43-.59-.52 0-1.04.2-1.43.59L10.3 9.45l-7.72 7.72c-.78.78-.78 2.05 0 2.83L4 21.41c.39.39.9.59 1.41.59.51 0 1.02-.2 1.41-.59l7.78-7.78 2.81-2.81c.8-.78.8-2.07 0-2.86zM5.41 20L4 18.59l7.72-7.72 1.47 1.35L5.41 20z\"/>\n",
              "  </svg>\n",
              "      </button>\n",
              "      \n",
              "  <style>\n",
              "    .colab-df-container {\n",
              "      display:flex;\n",
              "      flex-wrap:wrap;\n",
              "      gap: 12px;\n",
              "    }\n",
              "\n",
              "    .colab-df-convert {\n",
              "      background-color: #E8F0FE;\n",
              "      border: none;\n",
              "      border-radius: 50%;\n",
              "      cursor: pointer;\n",
              "      display: none;\n",
              "      fill: #1967D2;\n",
              "      height: 32px;\n",
              "      padding: 0 0 0 0;\n",
              "      width: 32px;\n",
              "    }\n",
              "\n",
              "    .colab-df-convert:hover {\n",
              "      background-color: #E2EBFA;\n",
              "      box-shadow: 0px 1px 2px rgba(60, 64, 67, 0.3), 0px 1px 3px 1px rgba(60, 64, 67, 0.15);\n",
              "      fill: #174EA6;\n",
              "    }\n",
              "\n",
              "    [theme=dark] .colab-df-convert {\n",
              "      background-color: #3B4455;\n",
              "      fill: #D2E3FC;\n",
              "    }\n",
              "\n",
              "    [theme=dark] .colab-df-convert:hover {\n",
              "      background-color: #434B5C;\n",
              "      box-shadow: 0px 1px 3px 1px rgba(0, 0, 0, 0.15);\n",
              "      filter: drop-shadow(0px 1px 2px rgba(0, 0, 0, 0.3));\n",
              "      fill: #FFFFFF;\n",
              "    }\n",
              "  </style>\n",
              "\n",
              "      <script>\n",
              "        const buttonEl =\n",
              "          document.querySelector('#df-a1f8978b-9e74-4563-9cf3-83e225663aac button.colab-df-convert');\n",
              "        buttonEl.style.display =\n",
              "          google.colab.kernel.accessAllowed ? 'block' : 'none';\n",
              "\n",
              "        async function convertToInteractive(key) {\n",
              "          const element = document.querySelector('#df-a1f8978b-9e74-4563-9cf3-83e225663aac');\n",
              "          const dataTable =\n",
              "            await google.colab.kernel.invokeFunction('convertToInteractive',\n",
              "                                                     [key], {});\n",
              "          if (!dataTable) return;\n",
              "\n",
              "          const docLinkHtml = 'Like what you see? Visit the ' +\n",
              "            '<a target=\"_blank\" href=https://colab.research.google.com/notebooks/data_table.ipynb>data table notebook</a>'\n",
              "            + ' to learn more about interactive tables.';\n",
              "          element.innerHTML = '';\n",
              "          dataTable['output_type'] = 'display_data';\n",
              "          await google.colab.output.renderOutput(dataTable, element);\n",
              "          const docLink = document.createElement('div');\n",
              "          docLink.innerHTML = docLinkHtml;\n",
              "          element.appendChild(docLink);\n",
              "        }\n",
              "      </script>\n",
              "    </div>\n",
              "  </div>\n",
              "  "
            ]
          },
          "metadata": {},
          "execution_count": 73
        }
      ]
    },
    {
      "cell_type": "markdown",
      "source": [
        "##Observations\n",
        "\n",
        "\n",
        "\n",
        "*   The first and last few items shows data was correctly loaded as per the data dictionary\n",
        "\n",
        "*   The data contains 100 rows and 6 columns\n",
        "\n",
        "*   The average time spent on the page is 5.3778 minutes, a standard deviation of 2.37817\n",
        "*   The minimum and maximum time a user spent on the page are 0.19 minutes and 10.71\n",
        "\n",
        "*   50% of users spent 5.415 minutes on the page\n",
        "*   Spanish was the most preferred language and 54 users were converted\n",
        "\n",
        "\n",
        "\n",
        "\n",
        "\n",
        "\n",
        "\n"
      ],
      "metadata": {
        "id": "keb436DuB9Xq"
      },
      "id": "keb436DuB9Xq"
    },
    {
      "cell_type": "code",
      "source": [
        "enews.info()"
      ],
      "metadata": {
        "colab": {
          "base_uri": "https://localhost:8080/"
        },
        "id": "GboLB4FETkDI",
        "outputId": "42e41c89-9b29-4ecd-d627-58f58a5ef94a"
      },
      "id": "GboLB4FETkDI",
      "execution_count": null,
      "outputs": [
        {
          "output_type": "stream",
          "name": "stdout",
          "text": [
            "<class 'pandas.core.frame.DataFrame'>\n",
            "RangeIndex: 100 entries, 0 to 99\n",
            "Data columns (total 6 columns):\n",
            " #   Column                  Non-Null Count  Dtype  \n",
            "---  ------                  --------------  -----  \n",
            " 0   user_id                 100 non-null    int64  \n",
            " 1   group                   100 non-null    object \n",
            " 2   landing_page            100 non-null    object \n",
            " 3   time_spent_on_the_page  100 non-null    float64\n",
            " 4   converted               100 non-null    object \n",
            " 5   language_preferred      100 non-null    object \n",
            "dtypes: float64(1), int64(1), object(4)\n",
            "memory usage: 4.8+ KB\n"
          ]
        }
      ]
    },
    {
      "cell_type": "code",
      "source": [
        "enews.isnull().sum()"
      ],
      "metadata": {
        "colab": {
          "base_uri": "https://localhost:8080/"
        },
        "id": "lrkCJZGrTkHl",
        "outputId": "f399c3b6-cb1a-4de8-f982-b13717fe738c"
      },
      "id": "lrkCJZGrTkHl",
      "execution_count": null,
      "outputs": [
        {
          "output_type": "execute_result",
          "data": {
            "text/plain": [
              "user_id                   0\n",
              "group                     0\n",
              "landing_page              0\n",
              "time_spent_on_the_page    0\n",
              "converted                 0\n",
              "language_preferred        0\n",
              "dtype: int64"
            ]
          },
          "metadata": {},
          "execution_count": 75
        }
      ]
    },
    {
      "cell_type": "code",
      "source": [
        "enews.duplicated().value_counts()"
      ],
      "metadata": {
        "colab": {
          "base_uri": "https://localhost:8080/"
        },
        "id": "oGgKJgo4WMQ7",
        "outputId": "0b20dfbf-954f-459a-ca6b-6a58152759a3"
      },
      "id": "oGgKJgo4WMQ7",
      "execution_count": null,
      "outputs": [
        {
          "output_type": "execute_result",
          "data": {
            "text/plain": [
              "False    100\n",
              "dtype: int64"
            ]
          },
          "metadata": {},
          "execution_count": 76
        }
      ]
    },
    {
      "cell_type": "markdown",
      "source": [
        "##Observations\n",
        "\n",
        "\n",
        "\n",
        "*   There are no missing values\n",
        "*   There are no dulicates\n",
        "*   There are two numerical columns and four categorical columns\n",
        "\n",
        "\n",
        "\n",
        "\n",
        "\n"
      ],
      "metadata": {
        "id": "DzCZ0RUNGzTf"
      },
      "id": "DzCZ0RUNGzTf"
    },
    {
      "cell_type": "markdown",
      "metadata": {
        "id": "68f3b2c9"
      },
      "source": [
        "### Univariate Analysis"
      ],
      "id": "68f3b2c9"
    },
    {
      "cell_type": "code",
      "metadata": {
        "id": "1932d0f3",
        "colab": {
          "base_uri": "https://localhost:8080/",
          "height": 657
        },
        "outputId": "ecf729d2-6651-4d6a-942c-436a1cca9ea2"
      },
      "source": [
        "\n",
        "columns=['user_id','group','landing_page','time_spent_on_the_page','converted','language_preferred']\n",
        "plt.figure(figsize=(20,15))\n",
        "\n",
        "for i, variable in enumerate(columns):\n",
        "    plt.subplot(3,3,i+1)\n",
        "    sns.histplot(enews,x=enews[variable],kde=True);\n",
        "    plt.tight_layout()\n",
        "    plt.title(variable)\n",
        "\n",
        "plt.show()"
      ],
      "id": "1932d0f3",
      "execution_count": null,
      "outputs": [
        {
          "output_type": "display_data",
          "data": {
            "text/plain": [
              "<Figure size 1440x1080 with 6 Axes>"
            ],
            "image/png": "[encoded data removed]"
          },
          "metadata": {
            "needs_background": "light"
          }
        }
      ]
    },
    {
      "cell_type": "markdown",
      "source": [
        "## Observations\n",
        "\n",
        "Time spent on the page shows a normal distribution"
      ],
      "metadata": {
        "id": "7g0d-lfgCGXc"
      },
      "id": "7g0d-lfgCGXc"
    },
    {
      "cell_type": "code",
      "source": [
        "\n",
        "numerical_columns=['user_id','time_spent_on_the_page']\n",
        "plt.figure(figsize=(20,15))\n",
        "\n",
        "for i, variable in enumerate(numerical_columns):\n",
        "    plt.subplot(3,3,i+1)\n",
        "    plt.boxplot(enews[variable], whis=1.5);\n",
        "    plt.tight_layout()\n",
        "    plt.title(variable)\n",
        "\n",
        "plt.show()"
      ],
      "metadata": {
        "colab": {
          "base_uri": "https://localhost:8080/",
          "height": 132
        },
        "id": "bJoOqMcG1dNT",
        "outputId": "8871739c-0310-4796-ffd3-28fb3cab418c"
      },
      "id": "bJoOqMcG1dNT",
      "execution_count": null,
      "outputs": [
        {
          "output_type": "display_data",
          "data": {
            "text/plain": [
              "<Figure size 1440x1080 with 2 Axes>"
            ],
            "image/png": "[encoded data removed]"
          },
          "metadata": {
            "needs_background": "light"
          }
        }
      ]
    },
    {
      "cell_type": "markdown",
      "source": [
        "## Observations\n",
        "\n",
        "User ID is skewed to the right where as time spent on the page shows no skewness"
      ],
      "metadata": {
        "id": "ArjrH7UaDYfr"
      },
      "id": "ArjrH7UaDYfr"
    },
    {
      "cell_type": "code",
      "source": [
        "\n",
        "cat_columns=['group','landing_page','converted','language_preferred']\n",
        "plt.figure(figsize=(20,15))\n",
        "\n",
        "for i, variable in enumerate(cat_columns):\n",
        "    plt.subplot(3,3,i+1)\n",
        "    sns.countplot(data=enews,x=enews[variable]);\n",
        "    plt.tight_layout(pad=2)\n",
        "    plt.title(variable)\n",
        "\n",
        "\n",
        "plt.show()"
      ],
      "metadata": {
        "colab": {
          "base_uri": "https://localhost:8080/",
          "height": 657
        },
        "id": "8suBoTV66Q-c",
        "outputId": "443b5b24-ac87-4257-b41b-d91984e9437b"
      },
      "id": "8suBoTV66Q-c",
      "execution_count": null,
      "outputs": [
        {
          "output_type": "display_data",
          "data": {
            "text/plain": [
              "<Figure size 1440x1080 with 4 Axes>"
            ],
            "image/png": "[encoded data removed]"
          },
          "metadata": {
            "needs_background": "light"
          }
        }
      ]
    },
    {
      "cell_type": "markdown",
      "metadata": {
        "id": "fad2de2f"
      },
      "source": [
        "### Bivariate Analysis"
      ],
      "id": "fad2de2f"
    },
    {
      "cell_type": "code",
      "source": [
        "sns.countplot(data=enews,x='group',hue='language_preferred')\n",
        "plt.title('Relationship between the groupings and language_preferred')\n",
        "plt.show()"
      ],
      "metadata": {
        "colab": {
          "base_uri": "https://localhost:8080/",
          "height": 295
        },
        "id": "gGvnvX6v9-pz",
        "outputId": "465ee26c-bc86-4dcd-efbd-6c0528eeebee"
      },
      "id": "gGvnvX6v9-pz",
      "execution_count": null,
      "outputs": [
        {
          "output_type": "display_data",
          "data": {
            "text/plain": [
              "<Figure size 432x288 with 1 Axes>"
            ],
            "image/png": "[encoded data removed]"
          },
          "metadata": {
            "needs_background": "light"
          }
        }
      ]
    },
    {
      "cell_type": "markdown",
      "source": [
        "##Observations\n",
        "\n",
        "The language preferred is equal among the two groups"
      ],
      "metadata": {
        "id": "GZ8g6GadO9Ey"
      },
      "id": "GZ8g6GadO9Ey"
    },
    {
      "cell_type": "code",
      "source": [
        "sns.countplot(data=enews,x='converted',hue='language_preferred')\n",
        "plt.title('Relationship between the conversion and language_preferred')\n",
        "plt.legend(loc='lower right')\n",
        "plt.show()"
      ],
      "metadata": {
        "colab": {
          "base_uri": "https://localhost:8080/",
          "height": 295
        },
        "id": "CljEpRst_9fd",
        "outputId": "d596c556-6180-42a4-d753-1d1f76ef842d"
      },
      "id": "CljEpRst_9fd",
      "execution_count": null,
      "outputs": [
        {
          "output_type": "display_data",
          "data": {
            "text/plain": [
              "<Figure size 432x288 with 1 Axes>"
            ],
            "image/png": "[encoded data removed]"
          },
          "metadata": {
            "needs_background": "light"
          }
        }
      ]
    },
    {
      "cell_type": "markdown",
      "source": [
        "##Observations\n",
        "\n",
        "English is the most preferred language among users that finally subscribed where as French is the most preferred among users who did not subscribe"
      ],
      "metadata": {
        "id": "TgFvsb0kFg7x"
      },
      "id": "TgFvsb0kFg7x"
    },
    {
      "cell_type": "code",
      "source": [
        "sns.countplot(data=enews,x='converted',hue='group')\n",
        "plt.title('Relationship between the conversion and group')\n",
        "plt.legend(loc='lower right')\n",
        "plt.show()"
      ],
      "metadata": {
        "colab": {
          "base_uri": "https://localhost:8080/",
          "height": 232
        },
        "id": "IESSDsLZEj4z",
        "outputId": "b66e241d-f813-43f1-aed1-f26fc16c1bb3"
      },
      "id": "IESSDsLZEj4z",
      "execution_count": null,
      "outputs": [
        {
          "output_type": "display_data",
          "data": {
            "text/plain": [
              "<Figure size 432x288 with 1 Axes>"
            ],
            "image/png": "[encoded data removed]"
          },
          "metadata": {
            "needs_background": "light"
          }
        }
      ]
    },
    {
      "cell_type": "markdown",
      "source": [
        "##Observations\n",
        "\n",
        "Almost 30 users in the control group did not subscribe, where as about 20 of them subscribed to the news portal\n",
        "\n",
        "Also almost 35 users of the treatment group subscribed to the news portal, whereas about 15 of them did not"
      ],
      "metadata": {
        "id": "Dq2JC8xSGPEt"
      },
      "id": "Dq2JC8xSGPEt"
    },
    {
      "cell_type": "code",
      "source": [
        "sns.countplot(data=enews,x='converted',hue='landing_page')\n",
        "plt.title('Relationship between the conversion and landing page')\n",
        "plt.legend(loc='lower right')\n",
        "plt.show()"
      ],
      "metadata": {
        "colab": {
          "base_uri": "https://localhost:8080/",
          "height": 315
        },
        "id": "UBXu_I3nFge4",
        "outputId": "8baccd14-c5ae-4df9-c721-6bc97eb362a3"
      },
      "id": "UBXu_I3nFge4",
      "execution_count": null,
      "outputs": [
        {
          "output_type": "display_data",
          "data": {
            "text/plain": [
              "<Figure size 432x288 with 1 Axes>"
            ],
            "image/png": "[encoded data removed]"
          },
          "metadata": {
            "needs_background": "light"
          }
        }
      ]
    },
    {
      "cell_type": "markdown",
      "source": [
        "##Observations\n",
        "\n",
        "Almost 30 users that were served with the old landing page did not subscribe, where as about 20 of them subscribed to the news portal\n",
        "\n",
        "Also almost 35 users that were served the new landing page subscribed to the news portal, whereas about 15 of them did not"
      ],
      "metadata": {
        "id": "85PiSAGCIJQ7"
      },
      "id": "85PiSAGCIJQ7"
    },
    {
      "cell_type": "code",
      "source": [
        "sns.countplot(data=enews,x='landing_page',hue='group')\n",
        "plt.title('Relationship between the landing page and group')\n",
        "plt.legend(loc='lower right')\n",
        "plt.show()"
      ],
      "metadata": {
        "colab": {
          "base_uri": "https://localhost:8080/",
          "height": 233
        },
        "id": "_RCewQhAF-qZ",
        "outputId": "e1fe0a63-0b8e-4cb8-c63d-917fba3b5e86"
      },
      "id": "_RCewQhAF-qZ",
      "execution_count": null,
      "outputs": [
        {
          "output_type": "display_data",
          "data": {
            "text/plain": [
              "<Figure size 432x288 with 1 Axes>"
            ],
            "image/png": "[encoded data removed]"
          },
          "metadata": {
            "needs_background": "light"
          }
        }
      ]
    },
    {
      "cell_type": "code",
      "metadata": {
        "id": "58e9a1d0",
        "colab": {
          "base_uri": "https://localhost:8080/",
          "height": 1000
        },
        "outputId": "b905a1ed-a87c-48da-aee5-99b439fb5a4c"
      },
      "source": [
        "sns.pairplot(data=enews, vars=columns, corner=True);"
      ],
      "id": "58e9a1d0",
      "execution_count": null,
      "outputs": [
        {
          "output_type": "display_data",
          "data": {
            "text/plain": [
              "<Figure size 1080x1080 with 27 Axes>"
            ],
            "image/png": "[encoded data removed]"
          },
          "metadata": {
            "needs_background": "light"
          }
        }
      ]
    },
    {
      "cell_type": "code",
      "source": [
        "plt.figure(figsize=(20,10))\n",
        "corr=enews.corr()\n",
        "#mask=np.triu(np.ones_like(corr, dtype=bool))\n",
        "sns.heatmap(data=enews.corr(), annot=True, cmap='bwr',vmin=-1,vmax=1)\n",
        "plt.yticks(rotation=0)\n",
        "plt.show()"
      ],
      "metadata": {
        "colab": {
          "base_uri": "https://localhost:8080/",
          "height": 596
        },
        "id": "KsXMJJaVILLA",
        "outputId": "4ace7063-ca5b-4b3b-bbf3-34442206a35d"
      },
      "id": "KsXMJJaVILLA",
      "execution_count": null,
      "outputs": [
        {
          "output_type": "display_data",
          "data": {
            "text/plain": [
              "<Figure size 1440x720 with 2 Axes>"
            ],
            "image/png": "[encoded data removed]"
          },
          "metadata": {
            "needs_background": "light"
          }
        }
      ]
    },
    {
      "cell_type": "markdown",
      "source": [
        "##Observations\n",
        "\n",
        "From the two plots above, there are no correlation between the various variables"
      ],
      "metadata": {
        "id": "p7tSu_VIKQ_J"
      },
      "id": "p7tSu_VIKQ_J"
    },
    {
      "cell_type": "code",
      "source": [
        "\n",
        "plt.figure(figsize=(30,15))\n",
        "sns.catplot(data=enews,x='language_preferred',y='time_spent_on_the_page', hue='converted', kind='box',palette ='bright',legend_out=True, aspect=3)\n",
        "plt.show()"
      ],
      "metadata": {
        "colab": {
          "base_uri": "https://localhost:8080/",
          "height": 386
        },
        "id": "QcCSanezILqc",
        "outputId": "dd6b7982-1017-4e1f-f1ad-17d96c939d53"
      },
      "id": "QcCSanezILqc",
      "execution_count": null,
      "outputs": [
        {
          "output_type": "display_data",
          "data": {
            "text/plain": [
              "<Figure size 2160x1080 with 0 Axes>"
            ]
          },
          "metadata": {}
        },
        {
          "output_type": "display_data",
          "data": {
            "text/plain": [
              "<Figure size 1138.38x360 with 1 Axes>"
            ],
            "image/png": "[encoded data removed]"
          },
          "metadata": {
            "needs_background": "light"
          }
        }
      ]
    },
    {
      "cell_type": "markdown",
      "source": [
        "##Observations\n",
        "\n",
        "Among all the preferred languages the median time spent on the page was higher for users who subscribed compared to those who did not."
      ],
      "metadata": {
        "id": "rExAgILPK_nd"
      },
      "id": "rExAgILPK_nd"
    },
    {
      "cell_type": "code",
      "source": [
        "\n",
        "\n",
        "plt.figure(figsize=(30,15))\n",
        "sns.catplot(data=enews,x='group',y='time_spent_on_the_page', hue='converted', kind='box',palette ='bright',legend_out=True, aspect=3)\n",
        "plt.show()"
      ],
      "metadata": {
        "colab": {
          "base_uri": "https://localhost:8080/",
          "height": 386
        },
        "id": "0aIAO0PbZ2mv",
        "outputId": "a0019f58-58e3-436d-8263-2e90f72b0e43"
      },
      "id": "0aIAO0PbZ2mv",
      "execution_count": null,
      "outputs": [
        {
          "output_type": "display_data",
          "data": {
            "text/plain": [
              "<Figure size 2160x1080 with 0 Axes>"
            ]
          },
          "metadata": {}
        },
        {
          "output_type": "display_data",
          "data": {
            "text/plain": [
              "<Figure size 1138.38x360 with 1 Axes>"
            ],
            "image/png": "[encoded data removed]"
          },
          "metadata": {
            "needs_background": "light"
          }
        }
      ]
    },
    {
      "cell_type": "markdown",
      "source": [
        "##Observations\n",
        "\n",
        "Among all the groups the median time spent on the page was higher for users who subscribed compared to those who did not.\n",
        "\n",
        "We do also notice some outliers in almost all the box plots"
      ],
      "metadata": {
        "id": "VxAn8AhDM7Zc"
      },
      "id": "VxAn8AhDM7Zc"
    },
    {
      "cell_type": "code",
      "source": [
        "\n",
        "\n",
        "plt.figure(figsize=(30,15))\n",
        "sns.catplot(data=enews,x='landing_page',y='time_spent_on_the_page', hue='converted', kind='box',palette ='bright',legend_out=True, aspect=3)\n",
        "plt.show()"
      ],
      "metadata": {
        "colab": {
          "base_uri": "https://localhost:8080/",
          "height": 126
        },
        "id": "od9eK6KJcI27",
        "outputId": "37a61345-fbd6-449f-b98e-a9d9f8937a6e"
      },
      "id": "od9eK6KJcI27",
      "execution_count": null,
      "outputs": [
        {
          "output_type": "display_data",
          "data": {
            "text/plain": [
              "<Figure size 2160x1080 with 0 Axes>"
            ]
          },
          "metadata": {}
        },
        {
          "output_type": "display_data",
          "data": {
            "text/plain": [
              "<Figure size 1138.38x360 with 1 Axes>"
            ],
            "image/png": "[encoded data removed]"
          },
          "metadata": {
            "needs_background": "light"
          }
        }
      ]
    },
    {
      "cell_type": "markdown",
      "source": [
        "##Observations\n",
        "\n",
        "Among all the landing pages the median time spent on the page was higher for users who subscribed compared to those who did not.\n",
        "\n",
        "We do also notice some outliers in almost all the box plots"
      ],
      "metadata": {
        "id": "g0vYWlHfOBF4"
      },
      "id": "g0vYWlHfOBF4"
    },
    {
      "cell_type": "code",
      "source": [
        "\n",
        "\n",
        "plt.figure(figsize=(30,15))\n",
        "sns.catplot(data=enews,x='group',y='time_spent_on_the_page', hue='language_preferred', kind='box',palette ='bright',legend_out=True, aspect=3)\n",
        "plt.show()"
      ],
      "metadata": {
        "colab": {
          "base_uri": "https://localhost:8080/",
          "height": 406
        },
        "id": "nyBbbQU8cJVq",
        "outputId": "a8678ccc-b098-4665-8906-08eb2fad95ad"
      },
      "id": "nyBbbQU8cJVq",
      "execution_count": null,
      "outputs": [
        {
          "output_type": "display_data",
          "data": {
            "text/plain": [
              "<Figure size 2160x1080 with 0 Axes>"
            ]
          },
          "metadata": {}
        },
        {
          "output_type": "display_data",
          "data": {
            "text/plain": [
              "<Figure size 1186.12x360 with 1 Axes>"
            ],
            "image/png": "[encoded data removed]"
          },
          "metadata": {
            "needs_background": "light"
          }
        }
      ]
    },
    {
      "cell_type": "markdown",
      "source": [
        "##Observations\n",
        "\n",
        "The boxplot for Spanish and English language are right skewed for the control group where as same languages are left skewed for the treatment group"
      ],
      "metadata": {
        "id": "qMY_GLF2OhsP"
      },
      "id": "qMY_GLF2OhsP"
    },
    {
      "cell_type": "code",
      "source": [
        "\n",
        "plt.figure(figsize=(30,15))\n",
        "sns.catplot(data=enews,x='group',y='time_spent_on_the_page', hue='user_id', kind='swarm',palette ='bright',legend=None)\n",
        "plt.show()"
      ],
      "metadata": {
        "colab": {
          "base_uri": "https://localhost:8080/",
          "height": 386
        },
        "id": "AuA37HRnd_LV",
        "outputId": "46ed4c6b-0955-445e-989e-08c992299cb4"
      },
      "id": "AuA37HRnd_LV",
      "execution_count": null,
      "outputs": [
        {
          "output_type": "display_data",
          "data": {
            "text/plain": [
              "<Figure size 2160x1080 with 0 Axes>"
            ]
          },
          "metadata": {}
        },
        {
          "output_type": "display_data",
          "data": {
            "text/plain": [
              "<Figure size 360x360 with 1 Axes>"
            ],
            "image/png": "[encoded data removed]"
          },
          "metadata": {
            "needs_background": "light"
          }
        }
      ]
    },
    {
      "cell_type": "markdown",
      "source": [
        "##Observations\n",
        "\n",
        "Users in the tratment group spent more time on the page compared to the control group"
      ],
      "metadata": {
        "id": "j72oC67TP8Yk"
      },
      "id": "j72oC67TP8Yk"
    },
    {
      "cell_type": "markdown",
      "metadata": {
        "id": "27906576"
      },
      "source": [
        "## 1. Do the users spend more time on the new landing page than the existing landing page?"
      ],
      "id": "27906576"
    },
    {
      "cell_type": "markdown",
      "metadata": {
        "id": "e5fdf0c8"
      },
      "source": [
        "### Perform Visual Analysis"
      ],
      "id": "e5fdf0c8"
    },
    {
      "cell_type": "code",
      "source": [
        "\n",
        "plt.figure(figsize=(20,10))\n",
        "sns.catplot(data=enews,x='landing_page',y='time_spent_on_the_page', kind='box',palette ='bright')\n",
        "plt.title('Time spent on old page compared to the new')\n",
        "plt.show()"
      ],
      "metadata": {
        "id": "sLZu-aScmcQg",
        "colab": {
          "base_uri": "https://localhost:8080/",
          "height": 402
        },
        "outputId": "7e67ec3e-b3b6-4836-d4a2-94266c432049"
      },
      "id": "sLZu-aScmcQg",
      "execution_count": null,
      "outputs": [
        {
          "output_type": "display_data",
          "data": {
            "text/plain": [
              "<Figure size 1440x720 with 0 Axes>"
            ]
          },
          "metadata": {}
        },
        {
          "output_type": "display_data",
          "data": {
            "text/plain": [
              "<Figure size 360x360 with 1 Axes>"
            ],
            "image/png": "[encoded data removed]"
          },
          "metadata": {
            "needs_background": "light"
          }
        }
      ]
    },
    {
      "cell_type": "markdown",
      "source": [
        "\n",
        "##Observations\n",
        "\n",
        "From the boxplot above, the median time spent on the new page is more than that of the old page."
      ],
      "metadata": {
        "id": "PX7qV1B-nAK8"
      },
      "id": "PX7qV1B-nAK8"
    },
    {
      "cell_type": "code",
      "metadata": {
        "id": "6eZJa41eg21n",
        "colab": {
          "base_uri": "https://localhost:8080/",
          "height": 402
        },
        "outputId": "9a614368-be6f-48f6-ac04-41cc166f8b56"
      },
      "source": [
        "\n",
        "plt.figure(figsize=(20,10))\n",
        "sns.catplot(data=enews,x='landing_page',y='time_spent_on_the_page', kind='point',palette ='bright')\n",
        "plt.title('Time spent on old page compared to the new')\n",
        "plt.show()"
      ],
      "id": "6eZJa41eg21n",
      "execution_count": null,
      "outputs": [
        {
          "output_type": "display_data",
          "data": {
            "text/plain": [
              "<Figure size 1440x720 with 0 Axes>"
            ]
          },
          "metadata": {}
        },
        {
          "output_type": "display_data",
          "data": {
            "text/plain": [
              "<Figure size 360x360 with 1 Axes>"
            ],
            "image/png": "[encoded data removed]"
          },
          "metadata": {
            "needs_background": "light"
          }
        }
      ]
    },
    {
      "cell_type": "markdown",
      "source": [
        "Observations\n",
        "\n",
        "From the pointplot above, it is also clear that the median time spent on the new page is more than that of the old page"
      ],
      "metadata": {
        "id": "zetamVfgpLZD"
      },
      "id": "zetamVfgpLZD"
    },
    {
      "cell_type": "markdown",
      "metadata": {
        "id": "56b3dafd"
      },
      "source": [
        "### Step 1: Define the null and alternate hypotheses"
      ],
      "id": "56b3dafd"
    },
    {
      "cell_type": "markdown",
      "metadata": {
        "id": "d2ac77ef"
      },
      "source": [
        "\n",
        "\n",
        "\n",
        "\n",
        "\n",
        "\n",
        "Let $\\mu_1, \\mu_2$ be the mean time spent on the **new** and **old landing pages** respectively\n",
        "\n",
        "The null hypothesis\n",
        "\n",
        ">$H_0:\\mu_1=\\mu_2$\n",
        "\n",
        "The alternate hypothesis\n",
        "\n",
        ">$H_a:\\mu_1>\\mu_2$"
      ],
      "id": "d2ac77ef"
    },
    {
      "cell_type": "markdown",
      "metadata": {
        "id": "c7ee4907"
      },
      "source": [
        "### Step 2: Select Appropriate test"
      ],
      "id": "c7ee4907"
    },
    {
      "cell_type": "code",
      "source": [
        "#checking means and standard deviations of time spent on the new and old landing pages\n",
        "\n",
        "print('The mean time spent on the new landing page is ' + str(round(enews[enews['landing_page']=='new']['time_spent_on_the_page'].mean(), 2)))\n",
        "print('The mean time spent on the old landing page is ' + str(round(enews[enews['landing_page']=='old']['time_spent_on_the_page'].mean(), 2)))\n",
        "print('The standard deviation of time spent on the new landing page is ' + str(round(enews[enews['landing_page']=='new']['time_spent_on_the_page'].std(), 2)))\n",
        "print('The standard deviation of time spent on the old landing page is ' + str(round(enews[enews['landing_page']=='old']['time_spent_on_the_page'].std(), 2)))"
      ],
      "metadata": {
        "colab": {
          "base_uri": "https://localhost:8080/"
        },
        "id": "bZ4ESYtVaRmw",
        "outputId": "30c0cdcc-8397-4cf7-f9a5-6498f9f905fd"
      },
      "id": "bZ4ESYtVaRmw",
      "execution_count": null,
      "outputs": [
        {
          "output_type": "stream",
          "name": "stdout",
          "text": [
            "The mean time spent on the new landing page is 6.22\n",
            "The mean time spent on the old landing page is 4.53\n",
            "The standard deviation of time spent on the new landing page is 1.82\n",
            "The standard deviation of time spent on the old landing page is 2.58\n"
          ]
        }
      ]
    },
    {
      "cell_type": "markdown",
      "metadata": {
        "id": "2c183cd7"
      },
      "source": [
        "##Confirming assumptions to decide appropriate test\n",
        "\n",
        "● Time spent on the page is measured on a continous scale, hence data is **Continuous**\n",
        "\n",
        "● Per the histogram from the univariate analysis **time spent on the page** shows **normal distribution**\n",
        "\n",
        "● The two samples are **independent of each other** since the old page was served to the control group and the new page to the treatment group\n",
        "\n",
        "● Both samples have **unequal standard deviations** as per result from calculation, hence population standard deviation is assume to be different\n",
        "\n",
        "● it was stated that sample was **randomly** selected from\n",
        "the population\n",
        "\n",
        "\n",
        "\n",
        "### Based on the satisfaction of above assumptions We can use the **two sample T-test** for this problem."
      ],
      "id": "2c183cd7"
    },
    {
      "cell_type": "markdown",
      "metadata": {
        "id": "3f58c9a7"
      },
      "source": [
        "### Step 3: Decide the significance level"
      ],
      "id": "3f58c9a7"
    },
    {
      "cell_type": "markdown",
      "metadata": {
        "id": "92d7d7ee"
      },
      "source": [
        "### This is already stated in the objectives to perform a statistical analysis at a 5% significance level\n",
        "\n",
        "**I am going to stick with the 5% significance level**"
      ],
      "id": "92d7d7ee"
    },
    {
      "cell_type": "markdown",
      "metadata": {
        "id": "5fed2eac"
      },
      "source": [
        "### Step 4: Collect and prepare data"
      ],
      "id": "5fed2eac"
    },
    {
      "cell_type": "code",
      "metadata": {
        "id": "f5a59495"
      },
      "source": [
        "#Time spent on the new page\n",
        "tnewpage=enews[enews['landing_page']=='new']['time_spent_on_the_page']\n",
        "tnewpage"
      ],
      "id": "f5a59495",
      "execution_count": null,
      "outputs": []
    },
    {
      "cell_type": "code",
      "source": [
        "#Time spent on old page\n",
        "toldpage=enews[enews['landing_page']=='old']['time_spent_on_the_page']\n",
        "toldpage"
      ],
      "metadata": {
        "id": "YLN6G4iS1HnM"
      },
      "id": "YLN6G4iS1HnM",
      "execution_count": null,
      "outputs": []
    },
    {
      "cell_type": "markdown",
      "metadata": {
        "id": "f5c5258d"
      },
      "source": [
        "### Step 5: Calculate the p-value"
      ],
      "id": "f5c5258d"
    },
    {
      "cell_type": "code",
      "metadata": {
        "id": "fac8594a",
        "colab": {
          "base_uri": "https://localhost:8080/"
        },
        "outputId": "b5e37ead-5b6d-4853-edf2-1fb9149ac14c"
      },
      "source": [
        "from scipy.stats import ttest_ind\n",
        "\n",
        "test_stat, p_value=ttest_ind(tnewpage,toldpage, equal_var=True, alternative='greater')\n",
        "print('The p-value is ', p_value)"
      ],
      "id": "fac8594a",
      "execution_count": null,
      "outputs": [
        {
          "output_type": "stream",
          "name": "stdout",
          "text": [
            "The p-value is  0.0001316123528095005\n"
          ]
        }
      ]
    },
    {
      "cell_type": "markdown",
      "metadata": {
        "id": "359b12f8"
      },
      "source": [
        "### Step 6: Compare the p-value with $\\alpha$\n"
      ],
      "id": "359b12f8"
    },
    {
      "cell_type": "code",
      "metadata": {
        "id": "7be47289",
        "colab": {
          "base_uri": "https://localhost:8080/"
        },
        "outputId": "58d6b702-0747-4c34-aa8b-7e3fe40e872d"
      },
      "source": [
        "# Comparing the p-value with α\n",
        "if p_value < 0.05:\n",
        "    print(f'As the p-value {p_value} is less than the level of significance, we reject the null hypothesis.')\n",
        "else:\n",
        "    print(f'As the p-value {p_value} is greater than the level of significance, we fail to reject the null hypothesis.')"
      ],
      "id": "7be47289",
      "execution_count": null,
      "outputs": [
        {
          "output_type": "stream",
          "name": "stdout",
          "text": [
            "As the p-value 0.0001316123528095005 is less than the level of significance, we reject the null hypothesis.\n"
          ]
        }
      ]
    },
    {
      "cell_type": "markdown",
      "metadata": {
        "id": "d9affc84"
      },
      "source": [
        "### Step 7:  Draw inference"
      ],
      "id": "d9affc84"
    },
    {
      "cell_type": "markdown",
      "metadata": {
        "id": "6b16dd4b"
      },
      "source": [
        "Since the pvalue (~0.00013) is less than the level of significance, we reject the null hypothesis. Hence, we have enough statistical evidence to say that  the users spend more time on the new landing page than on the old landing page."
      ],
      "id": "6b16dd4b"
    },
    {
      "cell_type": "markdown",
      "metadata": {
        "id": "1ad0823a"
      },
      "source": [
        "**A similar approach can be followed to answer the other questions.**"
      ],
      "id": "1ad0823a"
    },
    {
      "cell_type": "markdown",
      "metadata": {
        "id": "353e9d24"
      },
      "source": [
        "## **2. Is the conversion rate (the proportion of users who visit the landing page and get converted) for the new page greater than the conversion rate for the old page?**"
      ],
      "id": "353e9d24"
    },
    {
      "cell_type": "markdown",
      "source": [
        "### Step 1: Defining the null and alternate hypotheses"
      ],
      "metadata": {
        "id": "yJku1yyuE0O2"
      },
      "id": "yJku1yyuE0O2"
    },
    {
      "cell_type": "markdown",
      "source": [
        "#### Stating the null and alternative hypothesis\n",
        "Let $p_1,p_2$ be the proportions of users who were converted on the **new** and **old** pages respectively.\n",
        "\n",
        "We will test the null hypothesis\n",
        "\n",
        ">$H_0:p_1 =p_2$\n",
        "\n",
        "against the alternate hypothesis\n",
        "\n",
        ">$H_a:p_1 > p_2$"
      ],
      "metadata": {
        "id": "GqWMlYZrS6nS"
      },
      "id": "GqWMlYZrS6nS"
    },
    {
      "cell_type": "markdown",
      "source": [
        "### Step 2: Selecting Appropriate test"
      ],
      "metadata": {
        "id": "YDZae6b0FIJN"
      },
      "id": "YDZae6b0FIJN"
    },
    {
      "cell_type": "markdown",
      "source": [
        "#### Checking whether the **Two Proportion Z-test** assumptions are satisfied or not\n",
        "\n",
        "*   Binomally distributed population - Yes, the user either subscribe or not subscribe\n",
        "*   Random sampling from the population - Yes, we are informed that users were randomly selected\n",
        "*   Can the binomial distribution approximated to normal distribution - Yes. For binary data, CLT works slower than usual. The standard thing is to check whether np and n(1-p) are greater than or equal to 10. Here, n and p refer to the sample size and sample proportion respectively.\n",
        ">$np_1 = 50\\cdot \\frac{33}{50} =33 \\geq 10\\\\\n",
        "n(1-p_1) = 50 \\cdot \\frac{50-33}{50} =17 \\geq 10 \\\\\n",
        "np_2 = 50\\cdot \\frac{29}{50} =29 \\geq 10\\\\\n",
        "n(1-p_2) = 50 \\cdot \\frac{50-29}{50} =21 \\geq 10 $"
      ],
      "metadata": {
        "id": "8kV6EKAHP0yk"
      },
      "id": "8kV6EKAHP0yk"
    },
    {
      "cell_type": "markdown",
      "source": [
        "### Step 3: Deciding the significance level"
      ],
      "metadata": {
        "id": "8sMGI2-NGzn3"
      },
      "id": "8sMGI2-NGzn3"
    },
    {
      "cell_type": "markdown",
      "source": [
        "> This is already stated in the objectives to perform a statistical analysis at a 5% significance level"
      ],
      "metadata": {
        "id": "UPUOnwV6HFQM"
      },
      "id": "UPUOnwV6HFQM"
    },
    {
      "cell_type": "markdown",
      "source": [
        "### Step 4: Collecting and preparing data"
      ],
      "metadata": {
        "id": "6TSUatPDHbrh"
      },
      "id": "6TSUatPDHbrh"
    },
    {
      "cell_type": "code",
      "source": [
        "#checking the proportion of users that subscribed on both new and old pages\n",
        "propcon=enews.groupby(['converted'])['landing_page'].value_counts()\n",
        "propcon"
      ],
      "metadata": {
        "colab": {
          "base_uri": "https://localhost:8080/"
        },
        "id": "PvjoQk2AJh7k",
        "outputId": "42be8399-b29f-4a75-90b6-36aa5141c751"
      },
      "execution_count": null,
      "outputs": [
        {
          "output_type": "execute_result",
          "data": {
            "text/plain": [
              "converted  landing_page\n",
              "no         old             29\n",
              "           new             17\n",
              "yes        new             33\n",
              "           old             21\n",
              "Name: landing_page, dtype: int64"
            ]
          },
          "metadata": {},
          "execution_count": 15
        }
      ],
      "id": "PvjoQk2AJh7k"
    },
    {
      "cell_type": "markdown",
      "source": [
        ">For the new page out of 50 users, 33 users subscribed or were converted and 17 users did not subscribe or were not converted.\n",
        "\n",
        ">For the old page out of 50 users, 29 users subscribed or were converted and 21 users did not subscribe or were not converted.\n",
        "\n",
        "\n",
        "At 5% level of significance, will need to check if there is enough statistical evidence to conclude that the conversion rate for users who visited the new page is greater than the conversion rate for the users who visited the old page"
      ],
      "metadata": {
        "id": "MFnMmvVFS6SJ"
      },
      "id": "MFnMmvVFS6SJ"
    },
    {
      "cell_type": "markdown",
      "source": [
        "### Step 5: Finding the p-value"
      ],
      "metadata": {
        "id": "Wj1QPOMmF2ZC"
      },
      "id": "Wj1QPOMmF2ZC"
    },
    {
      "cell_type": "code",
      "source": [
        "\n",
        "from statsmodels.stats.proportion import proportions_ztest\n",
        "\n",
        "# set the counts of converted users\n",
        "conv_count = np.array([33, 29])\n",
        "\n",
        "# set the sample sizes\n",
        "nobs = np.array([50, 50])\n",
        "\n",
        "# find the p-value\n",
        "test_stat, p_value = proportions_ztest(conv_count, nobs)\n",
        "print('The p-value is ' + str(p_value))"
      ],
      "metadata": {
        "colab": {
          "base_uri": "https://localhost:8080/"
        },
        "id": "r6ehByQHMs1Z",
        "outputId": "091fff69-396f-4224-b60c-1c79656950ae"
      },
      "id": "r6ehByQHMs1Z",
      "execution_count": null,
      "outputs": [
        {
          "output_type": "stream",
          "name": "stdout",
          "text": [
            "The p-value is 0.4098908969616104\n"
          ]
        }
      ]
    },
    {
      "cell_type": "markdown",
      "source": [
        "### Step 6: Compare the p-value with $\\alpha$"
      ],
      "metadata": {
        "id": "GIne0aubGgyL"
      },
      "id": "GIne0aubGgyL"
    },
    {
      "cell_type": "code",
      "metadata": {
        "colab": {
          "base_uri": "https://localhost:8080/"
        },
        "outputId": "5e96d501-05e3-46aa-9d10-e0c16ea0c9e1",
        "id": "kk_2DBOKr9ZW"
      },
      "source": [
        "# Comparing the p-value with α\n",
        "if p_value < 0.05:\n",
        "    print(f'As the p-value {p_value} is less than the level of significance, we reject the null hypothesis.')\n",
        "else:\n",
        "    print(f'As the p-value {p_value} is greater than the level of significance, we fail to reject the null hypothesis.')"
      ],
      "execution_count": null,
      "outputs": [
        {
          "output_type": "stream",
          "name": "stdout",
          "text": [
            "As the p-value 0.4098908969616104 is greater than the level of significance, we fail to reject the null hypothesis.\n"
          ]
        }
      ],
      "id": "kk_2DBOKr9ZW"
    },
    {
      "cell_type": "markdown",
      "source": [
        "### Step 7:  Drawing inference"
      ],
      "metadata": {
        "id": "0h0H1yLoKEkO"
      },
      "id": "0h0H1yLoKEkO"
    },
    {
      "cell_type": "markdown",
      "source": [
        "Since the pvalue (~0.40989) is greater than the level of significance, we fail to reject the null hypothesis. Hence, we do not have enough statistical evidence to say that  the conversion rate for the new page is greater than the conversion rate for the old page."
      ],
      "metadata": {
        "id": "RFFoup2OpmWj"
      },
      "id": "RFFoup2OpmWj"
    },
    {
      "cell_type": "markdown",
      "metadata": {
        "id": "d49bfa2d"
      },
      "source": [
        "## **3. Is the conversion and preferred language are independent or related?**"
      ],
      "id": "d49bfa2d"
    },
    {
      "cell_type": "markdown",
      "source": [
        "### Step 1: Defining the null and alternate hypotheses"
      ],
      "metadata": {
        "id": "Lz69AIzCMeVL"
      },
      "id": "Lz69AIzCMeVL"
    },
    {
      "cell_type": "markdown",
      "metadata": {
        "id": "9BL1dzNufjcm"
      },
      "source": [
        "### The null and alternative hypothesis\n",
        "\n",
        "\n",
        "We will test the null hypothesis\n",
        "\n",
        ">$H_0:$ conversion is independent of preferred language.\n",
        "\n",
        "against the alternate hypothesis\n",
        "\n",
        ">$H_a:$ conversion depend on preferred language."
      ],
      "id": "9BL1dzNufjcm"
    },
    {
      "cell_type": "markdown",
      "source": [
        "### Step 2: Selecting Appropriate test"
      ],
      "metadata": {
        "id": "c-LjwYNUODgp"
      },
      "id": "c-LjwYNUODgp"
    },
    {
      "cell_type": "markdown",
      "source": [
        ">The formulated hypotheses can be tested using a **Chi-square test of independence** of attributes, concerning the two categorical variables"
      ],
      "metadata": {
        "id": "bzm_Zqj4PCSq"
      },
      "id": "bzm_Zqj4PCSq"
    },
    {
      "cell_type": "markdown",
      "metadata": {
        "id": "ITiDm4GMgEnt"
      },
      "source": [
        " Checking whether the assumptions are satisfied or not\n",
        "\n",
        "* Categorical variables - Yes\n",
        "* Expected value of the number of sample observations in each level of the variable is at least 5 - Yes, the number of observations in each level is greater than 5.\n",
        "* Random sampling from the population - Yes, we are informed that the users were randomly selected.\n"
      ],
      "id": "ITiDm4GMgEnt"
    },
    {
      "cell_type": "markdown",
      "source": [
        "### Step 3: Deciding the significance level"
      ],
      "metadata": {
        "id": "VbIXFUtiPtGw"
      },
      "id": "VbIXFUtiPtGw"
    },
    {
      "cell_type": "markdown",
      "metadata": {
        "id": "ZVEzu_VZvcKb"
      },
      "source": [
        "> As stated level of significance will be α= 0.05."
      ],
      "id": "ZVEzu_VZvcKb"
    },
    {
      "cell_type": "markdown",
      "source": [
        "### Step 4: Collecting and preparing data"
      ],
      "metadata": {
        "id": "-WTl6iwaP2vJ"
      },
      "id": "-WTl6iwaP2vJ"
    },
    {
      "cell_type": "code",
      "source": [
        "# create the contingency table showing the distribution of the two categorical variables\n",
        "contingency_table = pd.crosstab(enews['converted'],enews['language_preferred'])\n",
        "contingency_table"
      ],
      "metadata": {
        "colab": {
          "base_uri": "https://localhost:8080/",
          "height": 207
        },
        "id": "ZUzPjD0nxzKv",
        "outputId": "9651535d-58d8-4c4e-f529-c1ef8c226a29"
      },
      "id": "ZUzPjD0nxzKv",
      "execution_count": null,
      "outputs": [
        {
          "output_type": "execute_result",
          "data": {
            "text/plain": [
              "language_preferred  English  French  Spanish\n",
              "converted                                   \n",
              "no                       11      19       16\n",
              "yes                      21      15       18"
            ],
            "text/html": [
              "\n",
              "  <div id=\"df-c802d7fd-4f7b-48c8-91be-fc0a32a82d5c\">\n",
              "    <div class=\"colab-df-container\">\n",
              "      <div>\n",
              "<style scoped>\n",
              "    .dataframe tbody tr th:only-of-type {\n",
              "        vertical-align: middle;\n",
              "    }\n",
              "\n",
              "    .dataframe tbody tr th {\n",
              "        vertical-align: top;\n",
              "    }\n",
              "\n",
              "    .dataframe thead th {\n",
              "        text-align: right;\n",
              "    }\n",
              "</style>\n",
              "<table border=\"1\" class=\"dataframe\">\n",
              "  <thead>\n",
              "    <tr style=\"text-align: right;\">\n",
              "      <th>language_preferred</th>\n",
              "      <th>English</th>\n",
              "      <th>French</th>\n",
              "      <th>Spanish</th>\n",
              "    </tr>\n",
              "    <tr>\n",
              "      <th>converted</th>\n",
              "      <th></th>\n",
              "      <th></th>\n",
              "      <th></th>\n",
              "    </tr>\n",
              "  </thead>\n",
              "  <tbody>\n",
              "    <tr>\n",
              "      <th>no</th>\n",
              "      <td>11</td>\n",
              "      <td>19</td>\n",
              "      <td>16</td>\n",
              "    </tr>\n",
              "    <tr>\n",
              "      <th>yes</th>\n",
              "      <td>21</td>\n",
              "      <td>15</td>\n",
              "      <td>18</td>\n",
              "    </tr>\n",
              "  </tbody>\n",
              "</table>\n",
              "</div>\n",
              "      <button class=\"colab-df-convert\" onclick=\"convertToInteractive('df-c802d7fd-4f7b-48c8-91be-fc0a32a82d5c')\"\n",
              "              title=\"Convert this dataframe to an interactive table.\"\n",
              "              style=\"display:none;\">\n",
              "        \n",
              "  <svg xmlns=\"http://www.w3.org/2000/svg\" height=\"24px\"viewBox=\"0 0 24 24\"\n",
              "       width=\"24px\">\n",
              "    <path d=\"M0 0h24v24H0V0z\" fill=\"none\"/>\n",
              "    <path d=\"M18.56 5.44l.94 2.06.94-2.06 2.06-.94-2.06-.94-.94-2.06-.94 2.06-2.06.94zm-11 1L8.5 8.5l.94-2.06 2.06-.94-2.06-.94L8.5 2.5l-.94 2.06-2.06.94zm10 10l.94 2.06.94-2.06 2.06-.94-2.06-.94-.94-2.06-.94 2.06-2.06.94z\"/><path d=\"M17.41 7.96l-1.37-1.37c-.4-.4-.92-.59-1.43-.59-.52 0-1.04.2-1.43.59L10.3 9.45l-7.72 7.72c-.78.78-.78 2.05 0 2.83L4 21.41c.39.39.9.59 1.41.59.51 0 1.02-.2 1.41-.59l7.78-7.78 2.81-2.81c.8-.78.8-2.07 0-2.86zM5.41 20L4 18.59l7.72-7.72 1.47 1.35L5.41 20z\"/>\n",
              "  </svg>\n",
              "      </button>\n",
              "      \n",
              "  <style>\n",
              "    .colab-df-container {\n",
              "      display:flex;\n",
              "      flex-wrap:wrap;\n",
              "      gap: 12px;\n",
              "    }\n",
              "\n",
              "    .colab-df-convert {\n",
              "      background-color: #E8F0FE;\n",
              "      border: none;\n",
              "      border-radius: 50%;\n",
              "      cursor: pointer;\n",
              "      display: none;\n",
              "      fill: #1967D2;\n",
              "      height: 32px;\n",
              "      padding: 0 0 0 0;\n",
              "      width: 32px;\n",
              "    }\n",
              "\n",
              "    .colab-df-convert:hover {\n",
              "      background-color: #E2EBFA;\n",
              "      box-shadow: 0px 1px 2px rgba(60, 64, 67, 0.3), 0px 1px 3px 1px rgba(60, 64, 67, 0.15);\n",
              "      fill: #174EA6;\n",
              "    }\n",
              "\n",
              "    [theme=dark] .colab-df-convert {\n",
              "      background-color: #3B4455;\n",
              "      fill: #D2E3FC;\n",
              "    }\n",
              "\n",
              "    [theme=dark] .colab-df-convert:hover {\n",
              "      background-color: #434B5C;\n",
              "      box-shadow: 0px 1px 3px 1px rgba(0, 0, 0, 0.15);\n",
              "      filter: drop-shadow(0px 1px 2px rgba(0, 0, 0, 0.3));\n",
              "      fill: #FFFFFF;\n",
              "    }\n",
              "  </style>\n",
              "\n",
              "      <script>\n",
              "        const buttonEl =\n",
              "          document.querySelector('#df-c802d7fd-4f7b-48c8-91be-fc0a32a82d5c button.colab-df-convert');\n",
              "        buttonEl.style.display =\n",
              "          google.colab.kernel.accessAllowed ? 'block' : 'none';\n",
              "\n",
              "        async function convertToInteractive(key) {\n",
              "          const element = document.querySelector('#df-c802d7fd-4f7b-48c8-91be-fc0a32a82d5c');\n",
              "          const dataTable =\n",
              "            await google.colab.kernel.invokeFunction('convertToInteractive',\n",
              "                                                     [key], {});\n",
              "          if (!dataTable) return;\n",
              "\n",
              "          const docLinkHtml = 'Like what you see? Visit the ' +\n",
              "            '<a target=\"_blank\" href=https://colab.research.google.com/notebooks/data_table.ipynb>data table notebook</a>'\n",
              "            + ' to learn more about interactive tables.';\n",
              "          element.innerHTML = '';\n",
              "          dataTable['output_type'] = 'display_data';\n",
              "          await google.colab.output.renderOutput(dataTable, element);\n",
              "          const docLink = document.createElement('div');\n",
              "          docLink.innerHTML = docLinkHtml;\n",
              "          element.appendChild(docLink);\n",
              "        }\n",
              "      </script>\n",
              "    </div>\n",
              "  </div>\n",
              "  "
            ]
          },
          "metadata": {},
          "execution_count": 18
        }
      ]
    },
    {
      "cell_type": "markdown",
      "source": [
        "### Step 5: Finding the p-value"
      ],
      "metadata": {
        "id": "wqrW4f1jQB-w"
      },
      "id": "wqrW4f1jQB-w"
    },
    {
      "cell_type": "code",
      "execution_count": null,
      "metadata": {
        "ExecuteTime": {
          "end_time": "2020-05-22T05:27:15.638829Z",
          "start_time": "2020-05-22T05:27:15.506427Z"
        },
        "colab": {
          "base_uri": "https://localhost:8080/"
        },
        "id": "jh9vDeO6vcKd",
        "outputId": "47a4a5b3-9ce9-475b-9ff0-339974727836"
      },
      "outputs": [
        {
          "output_type": "stream",
          "name": "stdout",
          "text": [
            "The p-value is 0.21298887487543447\n"
          ]
        }
      ],
      "source": [
        "# use chi2_contingency() to find the p-value\n",
        "from scipy.stats import chi2_contingency\n",
        "\n",
        "\n",
        "chi2, pval, dof, exp_freq = chi2_contingency(contingency_table)\n",
        "# print the p-value\n",
        "print('The p-value is', pval)"
      ],
      "id": "jh9vDeO6vcKd"
    },
    {
      "cell_type": "markdown",
      "source": [
        "## Step 6: Compare the p-value with $\\alpha$"
      ],
      "metadata": {
        "id": "AsybvxH0QRCH"
      },
      "id": "AsybvxH0QRCH"
    },
    {
      "cell_type": "code",
      "source": [
        "\n",
        "# Comparing the p-value with α\n",
        "if pval < 0.05:\n",
        "    print(f'As the p-value {pval} is less than the level of significance, we reject the null hypothesis.')\n",
        "else:\n",
        "    print(f'As the p-value {pval} is greater than the level of significance, we fail to reject the null hypothesis.')"
      ],
      "metadata": {
        "id": "_6crJ3GsiY9s",
        "colab": {
          "base_uri": "https://localhost:8080/"
        },
        "outputId": "cebe1ab7-09e8-4afd-edf3-c55b3b8330d4"
      },
      "id": "_6crJ3GsiY9s",
      "execution_count": null,
      "outputs": [
        {
          "output_type": "stream",
          "name": "stdout",
          "text": [
            "As the p-value 0.21298887487543447 is greater than the level of significance, we fail to reject the null hypothesis.\n"
          ]
        }
      ]
    },
    {
      "cell_type": "markdown",
      "source": [
        "### Step 7:  Drawing inference"
      ],
      "metadata": {
        "id": "qRlpJ4rPQb5-"
      },
      "id": "qRlpJ4rPQb5-"
    },
    {
      "cell_type": "markdown",
      "source": [
        "Since the pvalue (~0.213) is greater than the level of significance, we fail to reject the null hypothesis. Hence, we do not have enough statistical evidence to say that conversion depend on preferred language"
      ],
      "metadata": {
        "id": "ZoOfg5MuQlTp"
      },
      "id": "ZoOfg5MuQlTp"
    },
    {
      "cell_type": "markdown",
      "metadata": {
        "id": "8d585a90"
      },
      "source": [
        "## **4. Is the time spent on the new page same for the different language users?**"
      ],
      "id": "8d585a90"
    },
    {
      "cell_type": "code",
      "source": [
        "\n",
        "newpage=enews[enews['landing_page']=='new']\n"
      ],
      "metadata": {
        "id": "ibU3_Hksm1vZ"
      },
      "id": "ibU3_Hksm1vZ",
      "execution_count": null,
      "outputs": []
    },
    {
      "cell_type": "code",
      "source": [
        "# draw the boxplot for visualization\n",
        "fig, ax = plt.subplots(figsize = (6,6))\n",
        "a = sns.boxplot(x= 'language_preferred', y = 'time_spent_on_the_page' , data = newpage)\n",
        "a.set_title(\"Time users spent on the new page per their language preferrence\", fontsize=15)\n",
        "plt.show()"
      ],
      "metadata": {
        "colab": {
          "base_uri": "https://localhost:8080/",
          "height": 407
        },
        "id": "ZqnfraXQviQ2",
        "outputId": "8855331b-a432-4a77-cbb3-5ef1d15cc26f"
      },
      "id": "ZqnfraXQviQ2",
      "execution_count": null,
      "outputs": [
        {
          "output_type": "display_data",
          "data": {
            "text/plain": [
              "<Figure size 432x432 with 1 Axes>"
            ],
            "image/png": "[encoded data removed]"
          },
          "metadata": {
            "needs_background": "light"
          }
        }
      ]
    },
    {
      "cell_type": "markdown",
      "source": [
        "### Step 1: Defining the null and alternate hypotheses"
      ],
      "metadata": {
        "id": "NyaQcDUOSkIW"
      },
      "id": "NyaQcDUOSkIW"
    },
    {
      "cell_type": "markdown",
      "source": [
        "### The null and alternative hypothesis\n",
        "\n",
        "Let $\\mu_1, \\mu_2, \\mu_3$ be the means of the time spent on the new page for the different language users English, French and Spanish respectively.\n",
        "\n",
        "We will test the null hypothesis\n",
        "\n",
        ">$H_0: \\mu_1 = \\mu_2 = \\mu_3$\n",
        "\n",
        "against the alternative hypothesis\n",
        "\n",
        ">$H_a: $ At least one mean of user preferred language time spent on the new page is different from the rest."
      ],
      "metadata": {
        "id": "Oy6r7I56jkem"
      },
      "id": "Oy6r7I56jkem"
    },
    {
      "cell_type": "markdown",
      "source": [
        "### Step 2: Selecting Appropriate test"
      ],
      "metadata": {
        "id": "bGP1OO2ASp_7"
      },
      "id": "bGP1OO2ASp_7"
    },
    {
      "cell_type": "markdown",
      "source": [
        "**One-way ANOVA Test will used to perform test**"
      ],
      "metadata": {
        "id": "LwzO85Gs79FZ"
      },
      "id": "LwzO85Gs79FZ"
    },
    {
      "cell_type": "markdown",
      "metadata": {
        "id": "qb-sMEm2WtHf"
      },
      "source": [
        "Now, the normality and equality of variance assumptions need to be checked.\n",
        "\n",
        "* For testing of normality, Shapiro-Wilk’s test is applied to the response variable.\n",
        "\n",
        "* For equality of variance, Levene test is applied to the response variable."
      ],
      "id": "qb-sMEm2WtHf"
    },
    {
      "cell_type": "markdown",
      "source": [
        "### Shapiro-Wilk’s test\n",
        "\n",
        "We will test the null hypothesis\n",
        "\n",
        ">$H_0:$ Time spent on the new page follows a normal distribution against\n",
        "\n",
        "against the alternative hypothesis\n",
        "\n",
        ">$H_a:$ Time spent on the new page does not follow a normal distribution"
      ],
      "metadata": {
        "id": "PLrQEUvvyGsC"
      },
      "id": "PLrQEUvvyGsC"
    },
    {
      "cell_type": "code",
      "source": [
        "from scipy import stats\n",
        "\n",
        "#find the p-value\n",
        "w, p_value = stats.shapiro(newpage['time_spent_on_the_page'])\n",
        "print('The p-value is', p_value)"
      ],
      "metadata": {
        "colab": {
          "base_uri": "https://localhost:8080/"
        },
        "id": "DXm1rVyAyvV7",
        "outputId": "7bb95f6a-4655-4eac-bdea-7f8f07b0c6b0"
      },
      "id": "DXm1rVyAyvV7",
      "execution_count": null,
      "outputs": [
        {
          "output_type": "stream",
          "name": "stdout",
          "text": [
            "The p-value is 0.8040016293525696\n"
          ]
        }
      ]
    },
    {
      "cell_type": "markdown",
      "source": [
        "Since p-value of the test is very large, we fail to reject the null hypothesis that the time spent on the new page follows the normal distribution."
      ],
      "metadata": {
        "id": "axQggytJzotq"
      },
      "id": "axQggytJzotq"
    },
    {
      "cell_type": "markdown",
      "source": [
        "### Levene’s test\n",
        "\n",
        "We will test the null hypothesis\n",
        "\n",
        ">$H_0$: All the population variances are equal\n",
        "\n",
        "against the alternative hypothesis\n",
        "\n",
        ">$H_a$: At least one variance is different from the rest"
      ],
      "metadata": {
        "id": "yYX7XWoJ0Y94"
      },
      "id": "yYX7XWoJ0Y94"
    },
    {
      "cell_type": "code",
      "source": [
        "from scipy.stats import levene\n",
        "statistic, p_value = levene( newpage['time_spent_on_the_page'][newpage['language_preferred']=='English'],\n",
        "                                   newpage['time_spent_on_the_page'][newpage['language_preferred']=='French'],\n",
        "                                   newpage['time_spent_on_the_page'][newpage['language_preferred']=='Spanish'])\n",
        "# find the p-value\n",
        "print('The p-value is', p_value)"
      ],
      "metadata": {
        "colab": {
          "base_uri": "https://localhost:8080/"
        },
        "id": "FHkX3CCP0uU-",
        "outputId": "717fb55b-560d-4cb2-94fe-54af5940eb58"
      },
      "id": "FHkX3CCP0uU-",
      "execution_count": null,
      "outputs": [
        {
          "output_type": "stream",
          "name": "stdout",
          "text": [
            "The p-value is 0.46711357711340173\n"
          ]
        }
      ]
    },
    {
      "cell_type": "markdown",
      "source": [
        "Since the p-value is larger than the significance level, we fail to reject the null hypothesis that all the population variances are equal."
      ],
      "metadata": {
        "id": "qh3wmawi2afA"
      },
      "id": "qh3wmawi2afA"
    },
    {
      "cell_type": "markdown",
      "metadata": {
        "id": "kvMMknJDq_LU"
      },
      "source": [
        "### checking whether the assumptions are satisfied or not\n",
        "\n",
        "* The populations are normally distributed - Yes, the normality assumption is verified using the Shapiro-Wilk’s test.\n",
        "* Samples are independent simple random samples - Yes, we are informed that the users were randomly selected.\n",
        "* Population variances are equal - Yes, the homogeneity of variance assumption is verified using the Levene's test.\n",
        "\n"
      ],
      "id": "kvMMknJDq_LU"
    },
    {
      "cell_type": "markdown",
      "source": [
        "### Step 3: Deciding the significance level"
      ],
      "metadata": {
        "id": "-B3HaLo_SuAA"
      },
      "id": "-B3HaLo_SuAA"
    },
    {
      "cell_type": "markdown",
      "source": [
        "> As stated level of significance will be α= 0.05."
      ],
      "metadata": {
        "id": "oE0fEPCq8tVs"
      },
      "id": "oE0fEPCq8tVs"
    },
    {
      "cell_type": "markdown",
      "source": [
        "### Step 4: Collecting and preparing data"
      ],
      "metadata": {
        "id": "W3KVSw75Syi4"
      },
      "id": "W3KVSw75Syi4"
    },
    {
      "cell_type": "code",
      "source": [
        "newpage=enews[enews['landing_page']=='new']"
      ],
      "metadata": {
        "id": "BunHN1fn85gk"
      },
      "id": "BunHN1fn85gk",
      "execution_count": null,
      "outputs": []
    },
    {
      "cell_type": "markdown",
      "source": [
        "### Step 5: Finding the p-value"
      ],
      "metadata": {
        "id": "7BdkCoDmS2mb"
      },
      "id": "7BdkCoDmS2mb"
    },
    {
      "cell_type": "code",
      "source": [
        "from scipy.stats import f_oneway\n",
        "\n",
        "# perform one-way anova test\n",
        "test_stat, pvalue = f_oneway(newpage.loc[newpage['language_preferred'] == 'English', 'time_spent_on_the_page'],\n",
        "                              newpage.loc[newpage['language_preferred'] == 'French', 'time_spent_on_the_page'],\n",
        "                              newpage.loc[newpage['language_preferred'] == 'Spanish', 'time_spent_on_the_page'])\n",
        "print('The p-value is ' + str(pvalue))"
      ],
      "metadata": {
        "colab": {
          "base_uri": "https://localhost:8080/"
        },
        "id": "N-7jR0E85PP6",
        "outputId": "d6437092-9d3a-477e-afc7-82e5da2aa076"
      },
      "id": "N-7jR0E85PP6",
      "execution_count": null,
      "outputs": [
        {
          "output_type": "stream",
          "name": "stdout",
          "text": [
            "The p-value is 0.43204138694325955\n"
          ]
        }
      ]
    },
    {
      "cell_type": "markdown",
      "source": [
        "## Step 6: Compare the p-value with $\\alpha$"
      ],
      "metadata": {
        "id": "bHLZoqfcS6uv"
      },
      "id": "bHLZoqfcS6uv"
    },
    {
      "cell_type": "code",
      "source": [
        "# Comparing the p-value with α\n",
        "if pvalue < 0.05:\n",
        "    print(f'As the p-value {pvalue} is less than the level of significance, we reject the null hypothesis.')\n",
        "else:\n",
        "    print(f'As the p-value {pvalue} is greater than the level of significance, we fail to reject the null hypothesis.')"
      ],
      "metadata": {
        "colab": {
          "base_uri": "https://localhost:8080/"
        },
        "id": "nc9VTa4vTGEg",
        "outputId": "39726482-3239-4067-90b8-0fbc1f5f79e9"
      },
      "id": "nc9VTa4vTGEg",
      "execution_count": null,
      "outputs": [
        {
          "output_type": "stream",
          "name": "stdout",
          "text": [
            "As the p-value 0.43204138694325955 is greater than the level of significance, we fail to reject the null hypothesis.\n"
          ]
        }
      ]
    },
    {
      "cell_type": "markdown",
      "source": [
        "### Step 7:  Drawing inference"
      ],
      "metadata": {
        "id": "mSUu9v72TPUG"
      },
      "id": "mSUu9v72TPUG"
    },
    {
      "cell_type": "markdown",
      "source": [
        "Since the pvalue (~0.432) is greater than the level of significance, we fail to reject the null hypothesis. Hence, we do not have enough statistical evidence to say that at least one mean of user preferred language time spent on the new page is different from the rest"
      ],
      "metadata": {
        "id": "89PXRJnUAqOd"
      },
      "id": "89PXRJnUAqOd"
    },
    {
      "cell_type": "markdown",
      "metadata": {
        "id": "3acbc947"
      },
      "source": [
        "## Conclusion and Business Recommendations"
      ],
      "id": "3acbc947"
    },
    {
      "cell_type": "markdown",
      "metadata": {
        "id": "21fb1063"
      },
      "source": [
        "1.   We have enough statistical evidence to say that the users spend more time on the new landing page than on the old landing page. The **recommendation** will be the company to invest more in the new page.\n",
        "\n",
        "2.   We do not have enough statistical evidence to say that the conversion rate for the new page is greater than the conversion rate for the old page. The **recommendation** will be to collect data for much larger population to test the hypothesis again\n",
        "\n",
        "3.   since we do not have enough statistical evidence to say that conversions depend on preferred language. The **recommendation** will be to collect data for much larger population to test the hypothesis again\n",
        "\n",
        "4.   Since we do not have enough statistical evidence to say that at least one mean of user preferred language time spent on the new page is different from the rest.\n",
        "The **recommendation** will be to collect data for much larger population to test the hypothesis again\n",
        "\n",
        "\n",
        "In general I will recommend the company undertake a user survey to understand what will most excite them to keep them longer on the page, this will help in designing appropriate page that will make users spend longer time on the page   \n",
        "\n",
        "\n"
      ],
      "id": "21fb1063"
    },
    {
      "cell_type": "markdown",
      "source": [
        "___"
      ],
      "metadata": {
        "id": "U0dAd4i0iCHo"
      },
      "id": "U0dAd4i0iCHo"
    }
  ]
}